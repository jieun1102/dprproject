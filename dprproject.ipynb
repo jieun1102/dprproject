{
  "nbformat": 4,
  "nbformat_minor": 0,
  "metadata": {
    "colab": {
      "provenance": [],
      "authorship_tag": "ABX9TyOSuFT10eCpsdQ8614uHJsN",
      "include_colab_link": true
    },
    "kernelspec": {
      "name": "python3",
      "display_name": "Python 3"
    },
    "language_info": {
      "name": "python"
    }
  },
  "cells": [
    {
      "cell_type": "markdown",
      "metadata": {
        "id": "view-in-github",
        "colab_type": "text"
      },
      "source": [
        "<a href=\"https://colab.research.google.com/github/jieun1102/dprproject/blob/main/dprproject.ipynb\" target=\"_parent\"><img src=\"https://colab.research.google.com/assets/colab-badge.svg\" alt=\"Open In Colab\"/></a>"
      ]
    },
    {
      "cell_type": "code",
      "execution_count": 3,
      "metadata": {
        "id": "nX_c4Wp_-g8u",
        "outputId": "90d4216f-6625-4304-a2a7-b7460ba11775",
        "colab": {
          "base_uri": "https://localhost:8080/"
        }
      },
      "outputs": [
        {
          "output_type": "stream",
          "name": "stdout",
          "text": [
            "Test\n"
          ]
        }
      ],
      "source": [
        "print(\"Test\")"
      ]
    },
    {
      "cell_type": "code",
      "source": [
        "print(\"성찬아...보고싶다..\")"
      ],
      "metadata": {
        "colab": {
          "base_uri": "https://localhost:8080/"
        },
        "id": "zdK1m2aOQg_5",
        "outputId": "07dfa92f-9ec4-4ab5-b116-19f0285bb13e"
      },
      "execution_count": 4,
      "outputs": [
        {
          "output_type": "stream",
          "name": "stdout",
          "text": [
            "성찬아...보고싶다..\n"
          ]
        }
      ]
    }
  ]
}